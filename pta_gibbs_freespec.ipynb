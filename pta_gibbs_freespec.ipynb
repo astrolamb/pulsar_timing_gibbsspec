{
 "cells": [
  {
   "cell_type": "code",
   "execution_count": 19,
   "metadata": {},
   "outputs": [],
   "source": [
    "from __future__ import division\n",
    "\n",
    "%matplotlib inline\n",
    "%config InlineBackend.figure_format = 'retina'\n",
    "\n",
    "import matplotlib\n",
    "from matplotlib import pyplot as plt\n",
    "from matplotlib.ticker import NullFormatter\n",
    "#matplotlib.rcParams['savefig.dpi'] = 1.5 * matplotlib.rcParams['savefig.dpi']\n",
    "\n",
    "import os, glob, time, sys, functools\n",
    "import corner\n",
    "import numpy as np\n",
    "\n",
    "import scipy\n",
    "import scipy.constants as sc\n",
    "import scipy.integrate as si\n",
    "import scipy.signal as ssig\n",
    "import scipy.interpolate as scint\n",
    "import scipy.linalg as sl\n",
    "\n",
    "from PTMCMCSampler.PTMCMCSampler import PTSampler as ptmcmc"
   ]
  },
  {
   "cell_type": "code",
   "execution_count": 20,
   "metadata": {},
   "outputs": [],
   "source": [
    "import libstempo as T2\n",
    "from libstempo import toasim as LT\n",
    "from libstempo import plot as LP\n",
    "from libstempo import eccUtils as eu\n",
    "\n",
    "import enterprise\n",
    "from enterprise.pulsar import Pulsar\n",
    "from enterprise.signals import parameter\n",
    "from enterprise.signals import selections\n",
    "from enterprise.signals import signal_base\n",
    "import enterprise.signals.signal_base as base\n",
    "from enterprise.signals import white_signals\n",
    "from enterprise.signals import gp_signals\n",
    "from enterprise.signals import deterministic_signals\n",
    "from enterprise.signals import utils\n",
    "from enterprise import constants as const\n",
    "\n",
    "import enterprise_extensions as ee\n",
    "from enterprise_extensions import models, model_utils, blocks"
   ]
  },
  {
   "cell_type": "code",
   "execution_count": 153,
   "metadata": {},
   "outputs": [],
   "source": [
    "class PTABlockGibbs(object):\n",
    "    \n",
    "    \"\"\"Gibbs-based pulsar-timing periodogram analysis.\n",
    "    \n",
    "    Based on:\n",
    "    \n",
    "        Article by van Haasteren & Vallisneri (2014),\n",
    "        \"New advances in the Gaussian-process approach \n",
    "        to pulsar-timing data analysis\",\n",
    "        Physical Review D, Volume 90, Issue 10, id.104012\n",
    "        arXiv:1407.1838\n",
    "        \n",
    "        Code based on https://github.com/jellis18/gibbs_student_t\n",
    "        \n",
    "    Authors: \n",
    "    \n",
    "        S. R. Taylor\n",
    "    \n",
    "    Example usage:\n",
    "    \n",
    "        > gibbs = PTABlockGibbs(pta, hypersample='conditional')\n",
    "        > x0 = x0 = np.concatenate([p.sample().flatten() for p in gibbs.params])\n",
    "        > gibbs.sample(x0, outdir='./', \n",
    "                       niter=10000, resume=False)\n",
    "        \n",
    "     \n",
    "    \"\"\"\n",
    "    \n",
    "    def __init__(self, pta, hypersample='conditional'):\n",
    "        \"\"\"\n",
    "        Parameters\n",
    "        -----------\n",
    "        pta : object\n",
    "            instance of a pta object for a single pulsar\n",
    "        hypersample: string\n",
    "            method to draw free spectral coefficients from conditional posterior\n",
    "            ('conditional' = analytic; 'mh' = short MCMC chain)\n",
    "        \"\"\"\n",
    "\n",
    "        self.pta = pta\n",
    "        self.hypersample = hypersample\n",
    "        if np.any(['basis_ecorr' in key for \n",
    "                   key in self.pta._signal_dict.keys()]):\n",
    "            pass\n",
    "        else:\n",
    "            print('ERROR: Gibbs outlier analysis must use basis_ecorr, not kernel ecorr')\n",
    "\n",
    "        # For now assume one pulsar\n",
    "        self._residuals = self.pta.get_residuals()[0]\n",
    "\n",
    "        # auxiliary variable stuff\n",
    "        xs = [p.sample() for p in pta.params]\n",
    "        self._b = np.zeros(self.pta.get_basis(xs)[0].shape[1])\n",
    "\n",
    "        # for caching\n",
    "        self.TNT = None\n",
    "        self.d = None\n",
    "        \n",
    "        # grabbing priors on free spectral power values\n",
    "        for ct, par in enumerate([p.name for p in self.params]):\n",
    "            if 'rho' in par: ind = ct\n",
    "        rho_priors = str(self.params[ct].params[0])\n",
    "        rho_priors = rho_priors.split('(')[1].split(')')[0].split(', ')\n",
    "\n",
    "        self.rhomin, self.rhomax = (10**(2*float(rho_priors[0].split('=')[1])), \n",
    "                                    10**(2*float(rho_priors[1].split('=')[1])))\n",
    "        \n",
    "        # find number of non-GW basis coefficients (timing model, ecorr, etc)\n",
    "        ct = 0\n",
    "        for sig in self.pta.signals:\n",
    "            if 'linear_timing_model' in sig or 'ecorr' in sig:\n",
    "                if 'marginalizing' in sig: pass\n",
    "                else: ct += self.pta.signals[sig].get_basis().shape[1]\n",
    "            else:\n",
    "                pass\n",
    "        self.gwid = ct\n",
    "            \n",
    "    @property\n",
    "    def params(self):\n",
    "        ret = []\n",
    "        for param in self.pta.params:\n",
    "            ret.append(param)\n",
    "        return ret\n",
    "    \n",
    "    @property\n",
    "    def param_names(self):\n",
    "        ret = []\n",
    "        for p in self.params:\n",
    "            if p.size:\n",
    "                for ii in range(0, p.size):\n",
    "                    ret.append(p.name + \"_{}\".format(ii))\n",
    "            else:\n",
    "                ret.append(p.name)\n",
    "        return ret\n",
    "    \n",
    "    def map_params(self, xs):\n",
    "        ret = {}\n",
    "        ct = 0\n",
    "        for p in self.params:\n",
    "            n = p.size if p.size else 1\n",
    "            ret[p.name] = xs[ct : ct + n] if n > 1 else float(xs[ct])\n",
    "            ct += n\n",
    "        return ret\n",
    "\n",
    "\n",
    "    def get_hyper_param_indices(self):\n",
    "        ind = []\n",
    "        for ct, par in enumerate(self.param_names):\n",
    "            if 'ecorr' in par or 'log10_A' in par or 'gamma' in par or 'rho' in par:\n",
    "                ind.append(ct)\n",
    "        return np.array(ind)\n",
    "\n",
    "\n",
    "    def get_white_noise_indices(self):\n",
    "        ind = []\n",
    "        for ct, par in enumerate(self.param_names):\n",
    "            if 'efac' in par or 'equad' in par:\n",
    "                ind.append(ct)\n",
    "        return np.array(ind)\n",
    "\n",
    "\n",
    "    def update_hyper_params(self, xs):\n",
    "\n",
    "        # get hyper parameter indices\n",
    "        hind = self.get_hyper_param_indices()\n",
    "        \n",
    "        # get initial log-likelihood and log-prior\n",
    "        lnlike0, lnprior0 = self.get_lnlikelihood(xs), self.get_lnprior(xs)\n",
    "\n",
    "        xnew = xs.copy()\n",
    "        if self.hypersample == 'conditional':\n",
    "            \n",
    "            tau = self._b[self.gwid:]**2\n",
    "            tau = (tau[::2] + tau[1::2]) / 2\n",
    "            \n",
    "            eta = np.random.uniform(0, 1-np.exp((tau/rhomax) - (tau/rhomin)))\n",
    "            rhonew = tau / ((tau/rhomax) - np.log(1-eta))\n",
    "            \n",
    "            xnew[hind] = 0.5*np.log10(rhonew)\n",
    "          \n",
    "        else:\n",
    "            \n",
    "            for ii in range(10):\n",
    "\n",
    "                # standard gaussian jump (this allows for different step sizes)\n",
    "                q = xnew.copy()\n",
    "                sigmas = 0.05 * len(hind)\n",
    "                probs = [0.1, 0.15, 0.5, 0.15, 0.1]\n",
    "                sizes = [0.1, 0.5, 1.0, 3.0, 10.0]\n",
    "                scale = np.random.choice(sizes, p=probs)\n",
    "                par = np.random.choice(hind, size=1) # only one hyper param at a time\n",
    "                q[par] += np.random.randn(len(q[par])) * sigmas * scale\n",
    "\n",
    "                # get log-like and log prior at new position\n",
    "                lnlike1, lnprior1 = self.get_lnlikelihood(q), self.get_lnprior(q)\n",
    "\n",
    "                # metropolis step\n",
    "                diff = (lnlike1 + lnprior1) - (lnlike0 + lnprior0)\n",
    "                if diff > np.log(np.random.rand()):\n",
    "                    xnew = q\n",
    "                    lnlike0 = lnlike1\n",
    "                    lnprior0 = lnprior1\n",
    "                else:\n",
    "                    xnew = xnew\n",
    "        \n",
    "        return xnew\n",
    "\n",
    "\n",
    "    def update_white_params(self, xs):\n",
    "\n",
    "        # get white noise parameter indices\n",
    "        wind = self.get_white_noise_indices()\n",
    "\n",
    "        xnew = xs.copy()\n",
    "        lnlike0, lnprior0 = self.get_lnlikelihood_white(xnew), self.get_lnprior(xnew)\n",
    "        for ii in range(20):\n",
    "\n",
    "            # standard gaussian jump (this allows for different step sizes)\n",
    "            q = xnew.copy()\n",
    "            sigmas = 0.05 * len(wind)\n",
    "            probs = [0.1, 0.15, 0.5, 0.15, 0.1]\n",
    "            sizes = [0.1, 0.5, 1.0, 3.0, 10.0]\n",
    "            scale = np.random.choice(sizes, p=probs)\n",
    "            par = np.random.choice(wind, size=1)\n",
    "            q[par] += np.random.randn(len(q[par])) * sigmas * scale\n",
    "\n",
    "            # get log-like and log prior at new position\n",
    "            lnlike1, lnprior1 = self.get_lnlikelihood_white(q), self.get_lnprior(q)\n",
    "\n",
    "            # metropolis step\n",
    "            diff = (lnlike1 + lnprior1) - (lnlike0 + lnprior0)\n",
    "            if diff > np.log(np.random.rand()):\n",
    "                xnew = q\n",
    "                lnlike0 = lnlike1\n",
    "                lnprior0 = lnprior1\n",
    "            else:\n",
    "                xnew = xnew\n",
    "        return xnew\n",
    "\n",
    "    \n",
    "    def update_b(self, xs): \n",
    "\n",
    "        # map parameter vector\n",
    "        params = self.map_params(xs)\n",
    "\n",
    "        # start likelihood calculations\n",
    "        loglike = 0\n",
    "\n",
    "        # get auxiliaries\n",
    "        Nvec = self.pta.get_ndiag(params)[0]\n",
    "        phiinv = self.pta.get_phiinv(params, logdet=False)[0]\n",
    "        residuals = self._residuals\n",
    "\n",
    "        T = self.pta.get_basis(params)[0]\n",
    "        if self.TNT is None and self.d is None:\n",
    "            self.TNT = np.dot(T.T, T / Nvec[:,None])\n",
    "            self.d = np.dot(T.T, residuals/Nvec)\n",
    "        #d = self.pta.get_TNr(params)[0]\n",
    "        #TNT = self.pta.get_TNT(params)[0]\n",
    "\n",
    "        # Red noise piece\n",
    "        Sigma = self.TNT + np.diag(phiinv)\n",
    "\n",
    "        try:\n",
    "            u, s, _ = sl.svd(Sigma)\n",
    "            mn = np.dot(u, np.dot(u.T, self.d)/s)\n",
    "            Li = u * np.sqrt(1/s)\n",
    "        except np.linalg.LinAlgError:\n",
    "\n",
    "            Q, R = sl.qr(Sigma)\n",
    "            Sigi = sl.solve(R, Q.T)\n",
    "            mn = np.dot(Sigi, self.d)\n",
    "            u, s, _ = sl.svd(Sigi)\n",
    "            Li = u * np.sqrt(1/s)\n",
    "\n",
    "        b = mn + np.dot(Li, np.random.randn(Li.shape[0]))\n",
    "\n",
    "        return b\n",
    "\n",
    "    \n",
    "    def get_lnlikelihood_white(self, xs):\n",
    "\n",
    "        # map parameters\n",
    "        params = self.map_params(xs)\n",
    "        matrix = self.pta.get_ndiag(params)[0]\n",
    "        \n",
    "        # Nvec and Tmat\n",
    "        Nvec = matrix\n",
    "        Tmat = self.pta.get_basis(params)[0]\n",
    "\n",
    "        # whitened residuals\n",
    "        mn = np.dot(Tmat, self._b)\n",
    "        yred = self._residuals - mn\n",
    "\n",
    "        # log determinant of N\n",
    "        logdet_N = np.sum(np.log(Nvec))\n",
    "\n",
    "        # triple product in likelihood function\n",
    "        rNr = np.sum(yred**2/Nvec)\n",
    "\n",
    "        # first component of likelihood function\n",
    "        loglike = -0.5 * (logdet_N + rNr)\n",
    "\n",
    "        return loglike\n",
    "\n",
    "\n",
    "    def get_lnlikelihood(self, xs):\n",
    "\n",
    "        # map parameter vector\n",
    "        params = self.map_params(xs)\n",
    "        \n",
    "        # start likelihood calculations\n",
    "        loglike = 0\n",
    "\n",
    "        # get auxiliaries\n",
    "        Nvec = self.pta.get_ndiag(params)[0]\n",
    "        phiinv, logdet_phi = self.pta.get_phiinv(params, \n",
    "                                                 logdet=True)[0]\n",
    "        residuals = self._residuals\n",
    "\n",
    "        T = self.pta.get_basis(params)[0]\n",
    "        if self.TNT is None and self.d is None:\n",
    "            self.TNT = np.dot(T.T, T / Nvec[:,None])\n",
    "            self.d = np.dot(T.T, residuals/Nvec)\n",
    "\n",
    "        # log determinant of N\n",
    "        logdet_N = np.sum(np.log(Nvec))\n",
    "\n",
    "        # triple product in likelihood function\n",
    "        rNr = np.sum(residuals**2/Nvec)\n",
    "\n",
    "        # first component of likelihood function\n",
    "        loglike += -0.5 * (logdet_N + rNr)\n",
    "\n",
    "        # Red noise piece\n",
    "        Sigma = self.TNT + np.diag(phiinv)\n",
    "\n",
    "        try:\n",
    "            cf = sl.cho_factor(Sigma)\n",
    "            expval = sl.cho_solve(cf, self.d)\n",
    "        except np.linalg.LinAlgError:\n",
    "            return -np.inf\n",
    "\n",
    "        logdet_sigma = np.sum(2 * np.log(np.diag(cf[0])))\n",
    "        loglike += 0.5 * (np.dot(self.d, expval) - \n",
    "                          logdet_sigma - logdet_phi)\n",
    "\n",
    "        return loglike\n",
    "\n",
    "        \n",
    "    def get_lnprior(self, params):\n",
    "        # map parameter vector if needed\n",
    "        params = params if isinstance(params, dict) else self.map_params(params)\n",
    "\n",
    "        return np.sum([p.get_logpdf(params=params) for p in self.params])\n",
    "\n",
    "\n",
    "    def sample(self, xs, outdir='./', niter=10000, resume=False):\n",
    "\n",
    "        print(f'Creating chain directory: {outdir}')\n",
    "        os.system(f'mkdir -p {outdir}')\n",
    "        \n",
    "        self.chain = np.zeros((niter, len(xs)))\n",
    "        self.bchain = np.zeros((niter, len(self._b)))\n",
    "        \n",
    "        self.iter = 0\n",
    "        startLength = 0\n",
    "        xnew = xs\n",
    "        if resume:\n",
    "            print('Resuming from previous run...')\n",
    "            # read in previous chains\n",
    "            tmp_chains = []\n",
    "            tmp_chains.append(np.loadtxt(f'{outdir}/chain.txt'))\n",
    "            tmp_chains.append(np.loadtxt(f'{outdir}/bchain.txt'))\n",
    "            \n",
    "            # find minimum length\n",
    "            minLength = np.min([tmp.shape[0] for tmp in tmp_chains])\n",
    "            \n",
    "            # take only the minimum length entries of each chain\n",
    "            tmp_chains = [tmp[:minLength] for tmp in tmp_chains]\n",
    "            \n",
    "            # pad with zeros if shorter than niter\n",
    "            self.chain[:tmp_chains[0].shape[0]] = tmp_chains[0]\n",
    "            self.bchain[:tmp_chains[1].shape[0]] = tmp_chains[1]\n",
    "            \n",
    "            # set new starting point for sampling\n",
    "            startLength = minLength\n",
    "            xnew = self.chain[startLength-1]\n",
    "            \n",
    "        tstart = time.time()\n",
    "        for ii in range(startLength, niter):\n",
    "            self.iter = ii\n",
    "            self.chain[ii, :] = xnew\n",
    "            self.bchain[ii,:] = self._b\n",
    "            \n",
    "            if ii==0:\n",
    "                self._b = self.update_b(xs)\n",
    "\n",
    "            self.TNT = None\n",
    "            self.d = None\n",
    "\n",
    "            # update white parameters\n",
    "            xnew = self.update_white_params(xnew)\n",
    "\n",
    "            # update hyper-parameters\n",
    "            xnew = self.update_hyper_params(xnew)\n",
    "\n",
    "            # if accepted update quadratic params\n",
    "            if np.all(xnew != self.chain[ii,-1]):\n",
    "                self._b = self.update_b(xnew)\n",
    "\n",
    "\n",
    "            if ii % 100 == 0 and ii > 0:\n",
    "                sys.stdout.write('\\r')\n",
    "                sys.stdout.write('Finished %g percent in %g seconds.'%(ii / niter * 100, \n",
    "                                                                       time.time()-tstart))\n",
    "                sys.stdout.flush()\n",
    "                np.savetxt(f'{outdir}/chain.txt', self.chain[:ii+1, :])\n",
    "                np.savetxt(f'{outdir}/bchain.txt', self.bchain[:ii+1, :])"
   ]
  },
  {
   "cell_type": "code",
   "execution_count": 201,
   "metadata": {},
   "outputs": [],
   "source": [
    "def model_general(psrs, tm_var=False, tm_linear=False, tmparam_list=None,\n",
    "                  tm_svd=False, tm_norm=True, noisedict=None, white_vary=False,\n",
    "                  Tspan=None, modes=None, wgts=None, logfreq=False, nmodes_log=10,\n",
    "                  common_psd='powerlaw', common_components=30,\n",
    "                  log10_A_common=None, gamma_common=None,\n",
    "                  common_logmin=None, common_logmax=None,\n",
    "                  orf='crn', orf_names=None, orf_ifreq=0, leg_lmax=5,\n",
    "                  upper_limit_common=None, upper_limit=False,\n",
    "                  red_var=True, red_psd='powerlaw', red_components=30, upper_limit_red=None,\n",
    "                  red_select=None, red_breakflat=False, red_breakflat_fq=None,\n",
    "                  bayesephem=False, be_type='setIII_1980', is_wideband=False, use_dmdata=False,\n",
    "                  dm_var=False, dm_type='gp', dm_psd='powerlaw', dm_components=30,\n",
    "                  upper_limit_dm=None, dm_annual=False, dm_chrom=False, dmchrom_psd='powerlaw',\n",
    "                  dmchrom_idx=4, gequad=False, coefficients=False, pshift=False,\n",
    "                  select='backend', tm_marg=False, dense_like=False):\n",
    "    \"\"\"\n",
    "    Reads in list of enterprise Pulsar instances and returns a PTA\n",
    "    object instantiated with user-supplied options.\n",
    "    :param tm_var: boolean to vary timing model coefficients.\n",
    "        [default = False]\n",
    "    :param tm_linear: boolean to vary timing model under linear approximation.\n",
    "        [default = False]\n",
    "    :param tmparam_list: list of timing model parameters to vary.\n",
    "        [default = None]\n",
    "    :param tm_svd: stabilize timing model designmatrix with SVD.\n",
    "        [default = False]\n",
    "    :param tm_norm: normalize the timing model design matrix, or provide custom\n",
    "        normalization. Alternative to 'tm_svd'.\n",
    "        [default = True]\n",
    "    :param noisedict: Dictionary of pulsar noise properties. Can provide manually,\n",
    "        or the code will attempt to find it.\n",
    "        [default = None]\n",
    "    :param white_vary: boolean for varying white noise or keeping fixed.\n",
    "        [default = False]\n",
    "    :param Tspan: timespan assumed for describing stochastic processes,\n",
    "        in units of seconds. If None provided will find span of pulsars.\n",
    "        [default = None]\n",
    "    :param modes: list of frequencies on which to describe red processes.\n",
    "        [default = None]\n",
    "    :param wgts: sqrt summation weights for each frequency bin, i.e. sqrt(delta f).\n",
    "        [default = None]\n",
    "    :param logfreq: boolean for including log-spaced bins.\n",
    "        [default = False]\n",
    "    :param nmodes_log: number of log-spaced bins below 1/T.\n",
    "        [default = 10]\n",
    "    :param common_psd: psd of common process.\n",
    "        ['powerlaw', 'spectrum', 'turnover', 'turnover_knee,', 'broken_powerlaw']\n",
    "        [default = 'powerlaw']\n",
    "    :param common_components: number of frequencies starting at 1/T for common process.\n",
    "        [default = 30]\n",
    "    :param log10_A_common: value of fixed log10_A_common parameter for\n",
    "        fixed amplitude analyses.\n",
    "        [default = None]\n",
    "    :param gamma_common: fixed common red process spectral index value. By default we\n",
    "        vary the spectral index over the range [0, 7].\n",
    "        [default = None]\n",
    "    :param common_logmin: specify lower prior for common psd. This is a prior on log10_rho\n",
    "        if common_psd is 'spectrum', else it is a prior on log amplitude\n",
    "    :param common_logmax: specify upper prior for common psd. This is a prior on log10_rho\n",
    "        if common_psd is 'spectrum', else it is a prior on log amplitude\n",
    "    :param orf: comma de-limited string of multiple common processes with different orfs.\n",
    "        [default = crn]\n",
    "    :param orf_names: comma de-limited string of process names for different orfs. Manual\n",
    "        control of these names is useful for embedding model_general within a hypermodel\n",
    "        analysis for a process with and without hd correlations where we want to avoid\n",
    "        parameter duplication.\n",
    "        [default = None]\n",
    "    :param orf_ifreq:\n",
    "        Frequency bin at which to start the Hellings & Downs function with\n",
    "        numbering beginning at 0. Currently only works with freq_hd orf.\n",
    "        [default = 0]\n",
    "    :param leg_lmax:\n",
    "        Maximum multipole of a Legendre polynomial series representation\n",
    "        of the overlap reduction function.\n",
    "        [default = 5]\n",
    "    :param upper_limit_common: perform upper limit on common red noise amplitude. Note\n",
    "        that when perfoming upper limits it is recommended that the spectral index also\n",
    "        be fixed to a specific value.\n",
    "        [default = False]\n",
    "    :param upper_limit: apply upper limit priors to all red processes.\n",
    "        [default = False]\n",
    "    :param red_var: boolean to switch on/off intrinsic red noise.\n",
    "        [default = True]\n",
    "    :param red_psd: psd of intrinsic red process.\n",
    "        ['powerlaw', 'spectrum', 'turnover', 'tprocess', 'tprocess_adapt', 'infinitepower']\n",
    "        [default = 'powerlaw']\n",
    "    :param red_components: number of frequencies starting at 1/T for intrinsic red process.\n",
    "        [default = 30]\n",
    "    :param upper_limit_red: perform upper limit on intrinsic red noise amplitude. Note\n",
    "        that when perfoming upper limits it is recommended that the spectral index also\n",
    "        be fixed to a specific value.\n",
    "        [default = False]\n",
    "    :param red_select: selection properties for intrinsic red noise.\n",
    "        ['backend', 'band', 'band+', None]\n",
    "        [default = None]\n",
    "    :param red_breakflat: break red noise spectrum and make flat above certain frequency.\n",
    "        [default = False]\n",
    "    :param red_breakflat_fq: break frequency for 'red_breakflat'.\n",
    "        [default = None]\n",
    "    :param bayesephem: boolean to include BayesEphem model.\n",
    "        [default = False]\n",
    "    :param be_type: flavor of bayesephem model based on how partials are computed.\n",
    "        ['orbel', 'orbel-v2', 'setIII', 'setIII_1980']\n",
    "        [default = 'setIII_1980']\n",
    "    :param is_wideband: boolean for whether input TOAs are wideband TOAs. Will exclude\n",
    "        ecorr from the white noise model.\n",
    "        [default = False]\n",
    "    :param use_dmdata: whether to use DM data (WidebandTimingModel) if is_wideband.\n",
    "        [default = False]\n",
    "    :param dm_var: boolean for explicitly searching for DM variations.\n",
    "        [default = False]\n",
    "    :param dm_type: type of DM variations.\n",
    "        ['gp', other choices selected with additional options; see below]\n",
    "        [default = 'gp']\n",
    "    :param dm_psd: psd of DM GP.\n",
    "        ['powerlaw', 'spectrum', 'turnover', 'tprocess', 'tprocess_adapt']\n",
    "        [default = 'powerlaw']\n",
    "    :param dm_components: number of frequencies starting at 1/T for DM GP.\n",
    "        [default = 30]\n",
    "    :param upper_limit_dm: perform upper limit on DM GP. Note that when perfoming\n",
    "        upper limits it is recommended that the spectral index also be\n",
    "        fixed to a specific value.\n",
    "        [default = False]\n",
    "    :param dm_annual: boolean to search for an annual DM trend.\n",
    "        [default = False]\n",
    "    :param dm_chrom: boolean to search for a generic chromatic GP.\n",
    "        [default = False]\n",
    "    :param dmchrom_psd: psd of generic chromatic GP.\n",
    "        ['powerlaw', 'spectrum', 'turnover']\n",
    "        [default = 'powerlaw']\n",
    "    :param dmchrom_idx: spectral index of generic chromatic GP.\n",
    "        [default = 4]\n",
    "    :param gequad: boolean to search for a global EQUAD.\n",
    "        [default = False]\n",
    "    :param coefficients: boolean to form full hierarchical PTA object;\n",
    "        (no analytic latent-coefficient marginalization)\n",
    "        [default = False]\n",
    "    :param pshift: boolean to add random phase shift to red noise Fourier design\n",
    "        matrices for false alarm rate studies.\n",
    "        [default = False]\n",
    "    :param tm_marg: Use marginalized timing model. In many cases this will speed\n",
    "        up the likelihood calculation significantly.\n",
    "    :param dense_like: Use dense or sparse functions to evalute lnlikelihood\n",
    "    Default PTA object composition:\n",
    "        1. fixed EFAC per backend/receiver system (per pulsar)\n",
    "        2. fixed EQUAD per backend/receiver system (per pulsar)\n",
    "        3. fixed ECORR per backend/receiver system (per pulsar)\n",
    "        4. Red noise modeled as a power-law with 30 sampling frequencies\n",
    "           (per pulsar)\n",
    "        5. Linear timing model (per pulsar)\n",
    "        6. Common-spectrum uncorrelated process modeled as a power-law with\n",
    "           30 sampling frequencies. (global)\n",
    "    \"\"\"\n",
    "\n",
    "    amp_prior = 'uniform' if upper_limit else 'log-uniform'\n",
    "    gp_priors = [upper_limit_red, upper_limit_dm, upper_limit_common]\n",
    "    if all(ii is None for ii in gp_priors):\n",
    "        amp_prior_red = amp_prior\n",
    "        amp_prior_dm = amp_prior\n",
    "        amp_prior_common = amp_prior\n",
    "    else:\n",
    "        amp_prior_red = 'uniform' if upper_limit_red else 'log-uniform'\n",
    "        amp_prior_dm = 'uniform' if upper_limit_dm else 'log-uniform'\n",
    "        amp_prior_common = 'uniform' if upper_limit_common else 'log-uniform'\n",
    "\n",
    "    # timing model\n",
    "    if not tm_var and not use_dmdata:\n",
    "        if tm_marg:\n",
    "            s = gp_signals.MarginalizingTimingModel()\n",
    "        else:\n",
    "            s = gp_signals.TimingModel(use_svd=tm_svd, normed=tm_norm,\n",
    "                                       coefficients=coefficients)\n",
    "    \n",
    "    # find the maximum time span to set GW frequency sampling\n",
    "    if Tspan is not None:\n",
    "        Tspan = Tspan\n",
    "    else:\n",
    "        Tspan = model_utils.get_tspan(psrs)\n",
    "\n",
    "    # common red noise block\n",
    "    crn = []\n",
    "    if orf_names is None:\n",
    "        orf_names = orf\n",
    "    for elem, elem_name in zip(orf.split(','), orf_names.split(',')):\n",
    "        if elem == 'zero_diag_bin_orf' or elem == 'zero_diag_legendre_orf':\n",
    "            log10_A_val = log10_A_common\n",
    "        else:\n",
    "            log10_A_val = None\n",
    "        crn.append(blocks.common_red_noise_block(psd=common_psd, prior=amp_prior_common, Tspan=Tspan,\n",
    "                                          components=common_components,\n",
    "                                          log10_A_val=log10_A_val, gamma_val=gamma_common,\n",
    "                                          delta_val=None, orf=elem, name='gw_{}'.format(elem_name),\n",
    "                                          orf_ifreq=orf_ifreq, leg_lmax=leg_lmax,\n",
    "                                          coefficients=coefficients, pshift=pshift, pseed=None,\n",
    "                                          logmin=common_logmin, logmax=common_logmax))\n",
    "        # orf_ifreq only affects freq_hd model.\n",
    "        # leg_lmax only affects (zero_diag_)legendre_orf model.\n",
    "    crn = functools.reduce((lambda x, y: x+y), crn)\n",
    "    s += crn\n",
    "\n",
    "    # adding white-noise, and acting on psr objects\n",
    "    models = []\n",
    "    for p in psrs:\n",
    "        if 'NANOGrav' in p.flags['pta'] and not is_wideband:\n",
    "            s2 = s + blocks.white_noise_block(vary=white_vary, inc_ecorr=True,\n",
    "                                       gp_ecorr=True, select=select)\n",
    "            models.append(s2(p))\n",
    "        else:\n",
    "            s4 = s + blocks.white_noise_block(vary=white_vary, inc_ecorr=False,\n",
    "                                   select=select)\n",
    "            models.append(s4(p))\n",
    "\n",
    "    # set up PTA\n",
    "    if dense_like:\n",
    "        pta = signal_base.PTA(models, lnlikelihood=signal_base.LogLikelihoodDenseCholesky)\n",
    "    else:\n",
    "        pta = signal_base.PTA(models)\n",
    "\n",
    "    return pta"
   ]
  },
  {
   "cell_type": "markdown",
   "metadata": {},
   "source": [
    "## IPTA MDC Example"
   ]
  },
  {
   "cell_type": "code",
   "execution_count": 24,
   "metadata": {},
   "outputs": [],
   "source": [
    "parfiles = sorted(glob.glob('/Users/taylosr8/Research/repos/enterprise/tests/data/mdc1/*.par'))\n",
    "timfiles = sorted(glob.glob('/Users/taylosr8/Research/repos/enterprise/tests/data/mdc1/*.tim'))"
   ]
  },
  {
   "cell_type": "code",
   "execution_count": 25,
   "metadata": {},
   "outputs": [
    {
     "name": "stdout",
     "output_type": "stream",
     "text": [
      "[tempo2Util.C:396] Warning: [TIM1] Please place MODE flags in the parameter file \n",
      "[tempo2Util.C:401] Warning: [DUP1] duplicated warnings have been suppressed.\n"
     ]
    },
    {
     "name": "stderr",
     "output_type": "stream",
     "text": [
      "WARNING: Could not find pulsar distance for PSR J0218+4232. Setting value to 1 with 20% uncertainty.\n",
      "WARNING: Could not find pulsar distance for PSR J0621+1002. Setting value to 1 with 20% uncertainty.\n",
      "WARNING: Could not find pulsar distance for PSR J0751+1807. Setting value to 1 with 20% uncertainty.\n",
      "WARNING: Could not find pulsar distance for PSR J0900-3144. Setting value to 1 with 20% uncertainty.\n",
      "WARNING: Could not find pulsar distance for PSR J1738+0333. Setting value to 1 with 20% uncertainty.\n",
      "WARNING: Could not find pulsar distance for PSR J1741+1351. Setting value to 1 with 20% uncertainty.\n",
      "WARNING: Could not find pulsar distance for PSR J1751-2857. Setting value to 1 with 20% uncertainty.\n",
      "WARNING: Could not find pulsar distance for PSR J1853+1303. Setting value to 1 with 20% uncertainty.\n",
      "WARNING: Could not find pulsar distance for PSR J1955+2908. Setting value to 1 with 20% uncertainty.\n",
      "WARNING: Could not find pulsar distance for PSR J2019+2425. Setting value to 1 with 20% uncertainty.\n"
     ]
    }
   ],
   "source": [
    "epsrs = []\n",
    "for p,t in zip(parfiles, timfiles):\n",
    "    epsrs.append(Pulsar(p,t))"
   ]
  },
  {
   "cell_type": "code",
   "execution_count": 158,
   "metadata": {},
   "outputs": [],
   "source": [
    "pta = model_general([epsrs[0]], red_var=False, \n",
    "                     white_vary=True, \n",
    "                     common_psd='spectrum', common_components=10, \n",
    "                    select=None, tm_marg=False)"
   ]
  },
  {
   "cell_type": "code",
   "execution_count": 159,
   "metadata": {},
   "outputs": [
    {
     "name": "stdout",
     "output_type": "stream",
     "text": [
      "ERROR: Gibbs outlier analysis must use basis_ecorr, not kernel ecorr\n"
     ]
    }
   ],
   "source": [
    "gibbs = PTABlockGibbs(pta=pta, hypersample='conditional')"
   ]
  },
  {
   "cell_type": "code",
   "execution_count": 160,
   "metadata": {},
   "outputs": [],
   "source": [
    "x0 = np.concatenate([p.sample().flatten() for p in gibbs.params])"
   ]
  },
  {
   "cell_type": "code",
   "execution_count": 161,
   "metadata": {},
   "outputs": [
    {
     "name": "stdout",
     "output_type": "stream",
     "text": [
      "Creating chain directory: ./gibbs_ipta_mdc/\n",
      "Finished 99 percent in 225.501 seconds."
     ]
    }
   ],
   "source": [
    "gibbs.sample(params, outdir='./gibbs_ipta_mdc/', \n",
    "             niter=10000, resume=False)"
   ]
  },
  {
   "cell_type": "code",
   "execution_count": 162,
   "metadata": {},
   "outputs": [],
   "source": [
    "chain_gibbs = np.loadtxt('./gibbs_ipta_mdc/chain.txt')\n",
    "chain_mhmcmc = np.loadtxt('./gibbs_ipta_mdc_mhmcmc/chain.txt')"
   ]
  },
  {
   "cell_type": "code",
   "execution_count": 163,
   "metadata": {},
   "outputs": [
    {
     "data": {
      "text/plain": [
       "[<matplotlib.lines.Line2D at 0x7f84692cd4f0>]"
      ]
     },
     "execution_count": 163,
     "metadata": {},
     "output_type": "execute_result"
    },
    {
     "data": {
      "image/png": "[encoded data removed]",
      "text/plain": [
       "<Figure size 432x288 with 1 Axes>"
      ]
     },
     "metadata": {
      "image/png": {
       "height": 248,
       "width": 380
      },
      "needs_background": "light"
     },
     "output_type": "display_data"
    }
   ],
   "source": [
    "idx = 2\n",
    "plt.plot(chain_gibbs[500:,idx])\n",
    "plt.plot(chain_mhmcmc[500:,idx])"
   ]
  },
  {
   "cell_type": "code",
   "execution_count": 164,
   "metadata": {},
   "outputs": [
    {
     "data": {
      "image/png": "[encoded data removed]",
      "text/plain": [
       "<Figure size 432x288 with 1 Axes>"
      ]
     },
     "metadata": {
      "image/png": {
       "height": 248,
       "width": 383
      },
      "needs_background": "light"
     },
     "output_type": "display_data"
    }
   ],
   "source": [
    "plt.hist(chain_gibbs[500:,idx], alpha=0.2);\n",
    "plt.hist(chain_mhmcmc[500:,idx], alpha=0.2);"
   ]
  },
  {
   "cell_type": "code",
   "execution_count": 165,
   "metadata": {},
   "outputs": [
    {
     "name": "stdout",
     "output_type": "stream",
     "text": [
      "1.83313186264758 9.371994806357986\n",
      "13.477585554239855 22.621613043990138\n",
      "1.392542128917813 9.195165917156123\n",
      "20.504969105477617 18.86193514114728\n",
      "32.25686751512652 17.830080919689642\n",
      "8.97485035930145 14.732415015575402\n",
      "13.49887180799157 38.00000203659036\n",
      "8.155903358834399 17.103057057191283\n",
      "6.752069241892965 12.31615700028519\n",
      "7.053029715390668 13.041110369145654\n"
     ]
    }
   ],
   "source": [
    "import acor\n",
    "for ii in range(10):\n",
    "    print(acor.acor(chain_gibbs[500:,2+ii])[0], acor.acor(chain_mhmcmc[500:,2+ii])[0])"
   ]
  },
  {
   "cell_type": "code",
   "execution_count": 166,
   "metadata": {},
   "outputs": [],
   "source": [
    "chain_gibbs_b = np.loadtxt('./gibbs_ipta_mdc/bchain.txt')"
   ]
  },
  {
   "cell_type": "code",
   "execution_count": 167,
   "metadata": {},
   "outputs": [
    {
     "data": {
      "text/plain": [
       "(9901, 28)"
      ]
     },
     "execution_count": 167,
     "metadata": {},
     "output_type": "execute_result"
    }
   ],
   "source": [
    "chain_gibbs_b.shape"
   ]
  },
  {
   "cell_type": "code",
   "execution_count": 176,
   "metadata": {},
   "outputs": [
    {
     "data": {
      "text/plain": [
       "[<matplotlib.lines.Line2D at 0x7f8470c460d0>]"
      ]
     },
     "execution_count": 176,
     "metadata": {},
     "output_type": "execute_result"
    },
    {
     "data": {
      "image/png": "[encoded data removed]",
      "text/plain": [
       "<Figure size 432x288 with 1 Axes>"
      ]
     },
     "metadata": {
      "image/png": {
       "height": 258,
       "width": 374
      },
      "needs_background": "light"
     },
     "output_type": "display_data"
    }
   ],
   "source": [
    "plt.plot(chain_gibbs_b[:,8])"
   ]
  },
  {
   "cell_type": "markdown",
   "metadata": {},
   "source": [
    "## More realistic example"
   ]
  },
  {
   "cell_type": "code",
   "execution_count": 185,
   "metadata": {},
   "outputs": [],
   "source": [
    "epsr = Pulsar('/Users/taylosr8/Research/repos/enterprise/tests/data/J1713+0747_NANOGrav_9yv1.t2.gls.par',\n",
    "              '/Users/taylosr8/Research/repos/enterprise/tests/data/J1713+0747_NANOGrav_9yv1.tim')"
   ]
  },
  {
   "cell_type": "code",
   "execution_count": 202,
   "metadata": {},
   "outputs": [],
   "source": [
    "pta = model_general([epsr], red_var=False, \n",
    "                    white_vary=True, \n",
    "                    common_psd='spectrum', common_components=10, \n",
    "                    select='backend', tm_marg=False)"
   ]
  },
  {
   "cell_type": "code",
   "execution_count": 203,
   "metadata": {},
   "outputs": [
    {
     "data": {
      "text/plain": [
       "[J1713+0747_L-wide_ASP_efac:Uniform(pmin=0.01, pmax=10.0),\n",
       " J1713+0747_L-wide_ASP_log10_equad:Uniform(pmin=-8.5, pmax=-5),\n",
       " J1713+0747_L-wide_PUPPI_efac:Uniform(pmin=0.01, pmax=10.0),\n",
       " J1713+0747_L-wide_PUPPI_log10_equad:Uniform(pmin=-8.5, pmax=-5),\n",
       " J1713+0747_Rcvr1_2_GASP_efac:Uniform(pmin=0.01, pmax=10.0),\n",
       " J1713+0747_Rcvr1_2_GASP_log10_equad:Uniform(pmin=-8.5, pmax=-5),\n",
       " J1713+0747_Rcvr1_2_GUPPI_efac:Uniform(pmin=0.01, pmax=10.0),\n",
       " J1713+0747_Rcvr1_2_GUPPI_log10_equad:Uniform(pmin=-8.5, pmax=-5),\n",
       " J1713+0747_Rcvr_800_GASP_efac:Uniform(pmin=0.01, pmax=10.0),\n",
       " J1713+0747_Rcvr_800_GASP_log10_equad:Uniform(pmin=-8.5, pmax=-5),\n",
       " J1713+0747_Rcvr_800_GUPPI_efac:Uniform(pmin=0.01, pmax=10.0),\n",
       " J1713+0747_Rcvr_800_GUPPI_log10_equad:Uniform(pmin=-8.5, pmax=-5),\n",
       " J1713+0747_S-wide_ASP_efac:Uniform(pmin=0.01, pmax=10.0),\n",
       " J1713+0747_S-wide_ASP_log10_equad:Uniform(pmin=-8.5, pmax=-5),\n",
       " J1713+0747_S-wide_PUPPI_efac:Uniform(pmin=0.01, pmax=10.0),\n",
       " J1713+0747_S-wide_PUPPI_log10_equad:Uniform(pmin=-8.5, pmax=-5),\n",
       " J1713+0747_basis_ecorr_L-wide_ASP_log10_ecorr:Uniform(pmin=-8.5, pmax=-5),\n",
       " J1713+0747_basis_ecorr_L-wide_PUPPI_log10_ecorr:Uniform(pmin=-8.5, pmax=-5),\n",
       " J1713+0747_basis_ecorr_Rcvr1_2_GASP_log10_ecorr:Uniform(pmin=-8.5, pmax=-5),\n",
       " J1713+0747_basis_ecorr_Rcvr1_2_GUPPI_log10_ecorr:Uniform(pmin=-8.5, pmax=-5),\n",
       " J1713+0747_basis_ecorr_Rcvr_800_GASP_log10_ecorr:Uniform(pmin=-8.5, pmax=-5),\n",
       " J1713+0747_basis_ecorr_Rcvr_800_GUPPI_log10_ecorr:Uniform(pmin=-8.5, pmax=-5),\n",
       " J1713+0747_basis_ecorr_S-wide_ASP_log10_ecorr:Uniform(pmin=-8.5, pmax=-5),\n",
       " J1713+0747_basis_ecorr_S-wide_PUPPI_log10_ecorr:Uniform(pmin=-8.5, pmax=-5),\n",
       " gw_crn_log10_rho:Uniform(pmin=-9, pmax=-4)[10]]"
      ]
     },
     "execution_count": 203,
     "metadata": {},
     "output_type": "execute_result"
    }
   ],
   "source": [
    "pta.params"
   ]
  },
  {
   "cell_type": "code",
   "execution_count": 211,
   "metadata": {},
   "outputs": [],
   "source": [
    "gibbs = PTABlockGibbs(pta=pta, hypersample='conditional')"
   ]
  },
  {
   "cell_type": "code",
   "execution_count": 212,
   "metadata": {},
   "outputs": [],
   "source": [
    "x0 = np.concatenate([p.sample().flatten() for p in gibbs.params])"
   ]
  },
  {
   "cell_type": "code",
   "execution_count": 213,
   "metadata": {},
   "outputs": [
    {
     "name": "stdout",
     "output_type": "stream",
     "text": [
      "Creating chain directory: ./gibbs_nano9_1713/\n"
     ]
    },
    {
     "ename": "ValueError",
     "evalue": "shape mismatch: value array of shape (10,) could not be broadcast to indexing result of shape (18,)",
     "output_type": "error",
     "traceback": [
      "\u001b[0;31m---------------------------------------------------------------------------\u001b[0m",
      "\u001b[0;31mValueError\u001b[0m                                Traceback (most recent call last)",
      "\u001b[0;32m/var/folders/fc/ytj9thl17s96_f7xyxkhtr0c0000gr/T/ipykernel_61559/3777985165.py\u001b[0m in \u001b[0;36m<module>\u001b[0;34m\u001b[0m\n\u001b[0;32m----> 1\u001b[0;31m gibbs.sample(x0, outdir='./gibbs_nano9_1713/', \n\u001b[0m\u001b[1;32m      2\u001b[0m              niter=10000, resume=False)\n",
      "\u001b[0;32m/var/folders/fc/ytj9thl17s96_f7xyxkhtr0c0000gr/T/ipykernel_61559/289911463.py\u001b[0m in \u001b[0;36msample\u001b[0;34m(self, xs, outdir, niter, resume)\u001b[0m\n\u001b[1;32m    371\u001b[0m \u001b[0;34m\u001b[0m\u001b[0m\n\u001b[1;32m    372\u001b[0m             \u001b[0;31m# update hyper-parameters\u001b[0m\u001b[0;34m\u001b[0m\u001b[0;34m\u001b[0m\u001b[0m\n\u001b[0;32m--> 373\u001b[0;31m             \u001b[0mxnew\u001b[0m \u001b[0;34m=\u001b[0m \u001b[0mself\u001b[0m\u001b[0;34m.\u001b[0m\u001b[0mupdate_hyper_params\u001b[0m\u001b[0;34m(\u001b[0m\u001b[0mxnew\u001b[0m\u001b[0;34m)\u001b[0m\u001b[0;34m\u001b[0m\u001b[0;34m\u001b[0m\u001b[0m\n\u001b[0m\u001b[1;32m    374\u001b[0m \u001b[0;34m\u001b[0m\u001b[0m\n\u001b[1;32m    375\u001b[0m             \u001b[0;31m# if accepted update quadratic params\u001b[0m\u001b[0;34m\u001b[0m\u001b[0;34m\u001b[0m\u001b[0m\n",
      "\u001b[0;32m/var/folders/fc/ytj9thl17s96_f7xyxkhtr0c0000gr/T/ipykernel_61559/289911463.py\u001b[0m in \u001b[0;36mupdate_hyper_params\u001b[0;34m(self, xs)\u001b[0m\n\u001b[1;32m    144\u001b[0m             \u001b[0mrhonew\u001b[0m \u001b[0;34m=\u001b[0m \u001b[0mtau\u001b[0m \u001b[0;34m/\u001b[0m \u001b[0;34m(\u001b[0m\u001b[0;34m(\u001b[0m\u001b[0mtau\u001b[0m\u001b[0;34m/\u001b[0m\u001b[0mrhomax\u001b[0m\u001b[0;34m)\u001b[0m \u001b[0;34m-\u001b[0m \u001b[0mnp\u001b[0m\u001b[0;34m.\u001b[0m\u001b[0mlog\u001b[0m\u001b[0;34m(\u001b[0m\u001b[0;36m1\u001b[0m\u001b[0;34m-\u001b[0m\u001b[0meta\u001b[0m\u001b[0;34m)\u001b[0m\u001b[0;34m)\u001b[0m\u001b[0;34m\u001b[0m\u001b[0;34m\u001b[0m\u001b[0m\n\u001b[1;32m    145\u001b[0m \u001b[0;34m\u001b[0m\u001b[0m\n\u001b[0;32m--> 146\u001b[0;31m             \u001b[0mxnew\u001b[0m\u001b[0;34m[\u001b[0m\u001b[0mhind\u001b[0m\u001b[0;34m]\u001b[0m \u001b[0;34m=\u001b[0m \u001b[0;36m0.5\u001b[0m\u001b[0;34m*\u001b[0m\u001b[0mnp\u001b[0m\u001b[0;34m.\u001b[0m\u001b[0mlog10\u001b[0m\u001b[0;34m(\u001b[0m\u001b[0mrhonew\u001b[0m\u001b[0;34m)\u001b[0m\u001b[0;34m\u001b[0m\u001b[0;34m\u001b[0m\u001b[0m\n\u001b[0m\u001b[1;32m    147\u001b[0m \u001b[0;34m\u001b[0m\u001b[0m\n\u001b[1;32m    148\u001b[0m         \u001b[0;32melse\u001b[0m\u001b[0;34m:\u001b[0m\u001b[0;34m\u001b[0m\u001b[0;34m\u001b[0m\u001b[0m\n",
      "\u001b[0;31mValueError\u001b[0m: shape mismatch: value array of shape (10,) could not be broadcast to indexing result of shape (18,)"
     ]
    }
   ],
   "source": [
    "gibbs.sample(x0, outdir='./gibbs_nano9_1713/', \n",
    "             niter=10000, resume=False)"
   ]
  },
  {
   "cell_type": "code",
   "execution_count": 215,
   "metadata": {},
   "outputs": [
    {
     "data": {
      "text/plain": [
       "(15257, 673)"
      ]
     },
     "execution_count": 215,
     "metadata": {},
     "output_type": "execute_result"
    }
   ],
   "source": [
    "pta.get_basis()[0].shape"
   ]
  },
  {
   "cell_type": "code",
   "execution_count": 217,
   "metadata": {},
   "outputs": [
    {
     "name": "stdout",
     "output_type": "stream",
     "text": [
      "J1713+0747_linear_timing_model (15257, 129)\n",
      "J1713+0747_gw_crn (15257, 20)\n",
      "J1713+0747_efac\n",
      "J1713+0747_equad\n",
      "J1713+0747_basis_ecorr (15257, 524)\n"
     ]
    }
   ],
   "source": [
    "for sig in pta.signals:\n",
    "    try:\n",
    "        print(pta.signals[sig].name, pta.signals[sig].get_basis().shape)\n",
    "    except:\n",
    "        print(pta.signals[sig].name)"
   ]
  },
  {
   "cell_type": "code",
   "execution_count": 218,
   "metadata": {},
   "outputs": [
    {
     "data": {
      "text/plain": [
       "653"
      ]
     },
     "execution_count": 218,
     "metadata": {},
     "output_type": "execute_result"
    }
   ],
   "source": [
    "ct = 0\n",
    "for sig in pta.signals:\n",
    "    if 'linear_timing_model' in sig or 'ecorr' in sig:\n",
    "        if 'marginalizing' in sig: pass\n",
    "        else: ct += self.pta.signals[sig].get_basis().shape[1]\n",
    "    else:\n",
    "        pass\n",
    "self.gwid = ct"
   ]
  },
  {
   "cell_type": "code",
   "execution_count": 220,
   "metadata": {},
   "outputs": [
    {
     "data": {
      "text/plain": [
       "array([[ 0.00809591,  0.00793454, -0.00793436, ...,  0.        ,\n",
       "         0.        ,  0.        ],\n",
       "       [ 0.00809591,  0.00793454, -0.00793436, ...,  0.        ,\n",
       "         0.        ,  0.        ],\n",
       "       [ 0.00809591,  0.00793454, -0.00793436, ...,  0.        ,\n",
       "         0.        ,  0.        ],\n",
       "       ...,\n",
       "       [ 0.00809591, -0.0065193 , -0.00940972, ...,  0.        ,\n",
       "         0.        ,  0.        ],\n",
       "       [ 0.00809591, -0.0065193 , -0.00940972, ...,  0.        ,\n",
       "         0.        ,  0.        ],\n",
       "       [ 0.00809591, -0.0065193 , -0.00940972, ...,  0.        ,\n",
       "         0.        ,  0.        ]])"
      ]
     },
     "execution_count": 220,
     "metadata": {},
     "output_type": "execute_result"
    }
   ],
   "source": [
    "pta.get_basis()[0]"
   ]
  },
  {
   "cell_type": "code",
   "execution_count": 226,
   "metadata": {},
   "outputs": [
    {
     "data": {
      "text/plain": [
       "array([[-0.83610242, -0.54857338,  0.91732705, ...,  0.87101873,\n",
       "        -0.4587743 , -0.88855283],\n",
       "       [-0.83610242, -0.54857338,  0.91732705, ...,  0.87101873,\n",
       "        -0.4587743 , -0.88855283],\n",
       "       [-0.83610242, -0.54857338,  0.91732705, ...,  0.87101873,\n",
       "        -0.4587743 , -0.88855283],\n",
       "       ...,\n",
       "       [-0.83610242, -0.54857338,  0.91732705, ...,  0.87101873,\n",
       "        -0.4587743 , -0.88855283],\n",
       "       [-0.83610242, -0.54857338,  0.91732705, ...,  0.87101873,\n",
       "        -0.4587743 , -0.88855283],\n",
       "       [-0.83610242, -0.54857338,  0.91732705, ...,  0.87101873,\n",
       "        -0.4587743 , -0.88855283]])"
      ]
     },
     "execution_count": 226,
     "metadata": {},
     "output_type": "execute_result"
    }
   ],
   "source": [
    "pta._signal_dict['J1713+0747_gw_crn'].get_basis()"
   ]
  },
  {
   "cell_type": "code",
   "execution_count": null,
   "metadata": {},
   "outputs": [],
   "source": []
  }
 ],
 "metadata": {
  "kernelspec": {
   "display_name": "Python [conda env:enterprise] *",
   "language": "python",
   "name": "conda-env-enterprise-py"
  },
  "language_info": {
   "codemirror_mode": {
    "name": "ipython",
    "version": 3
   },
   "file_extension": ".py",
   "mimetype": "text/x-python",
   "name": "python",
   "nbconvert_exporter": "python",
   "pygments_lexer": "ipython3",
   "version": "3.9.7"
  }
 },
 "nbformat": 4,
 "nbformat_minor": 2
}
