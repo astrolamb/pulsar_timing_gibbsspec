{
 "cells": [
  {
   "cell_type": "code",
   "execution_count": null,
   "id": "fa4f51db",
   "metadata": {},
   "outputs": [],
   "source": [
    "from __future__ import division\n",
    "\n",
    "%matplotlib inline\n",
    "%config InlineBackend.figure_format = 'retina'\n",
    "\n",
    "%load_ext autoreload\n",
    "%autoreload 2\n",
    "\n",
    "import matplotlib\n",
    "from matplotlib import pyplot as plt\n",
    "from matplotlib.ticker import NullFormatter\n",
    "\n",
    "import os, glob\n",
    "import corner\n",
    "import numpy as np\n",
    "\n",
    "import enterprise\n",
    "from enterprise.pulsar import Pulsar\n",
    "\n",
    "from PTMCMCSampler.PTMCMCSampler import PTSampler as ptmcmc"
   ]
  },
  {
   "cell_type": "code",
   "execution_count": null,
   "id": "04a29015",
   "metadata": {},
   "outputs": [],
   "source": [
    "from pulsar_gibbs import PulsarBlockGibbs\n",
    "import model_definition"
   ]
  },
  {
   "cell_type": "markdown",
   "id": "4c2410af",
   "metadata": {},
   "source": [
    "### Read in J1713+0747 from the NANOGrav 9-year Dataset"
   ]
  },
  {
   "cell_type": "code",
   "execution_count": null,
   "id": "48ff3cd2",
   "metadata": {},
   "outputs": [],
   "source": [
    "epsr = Pulsar('./data/J1713+0747_NANOGrav_9yv1.t2.gls.par',\n",
    "              './data/J1713+0747_NANOGrav_9yv1.tim')"
   ]
  },
  {
   "cell_type": "markdown",
   "id": "997a07d3",
   "metadata": {},
   "source": [
    "### Construct a standard noise analysis model, with EFAC, EQUAD, ECORR, and a free-spectral process"
   ]
  },
  {
   "cell_type": "code",
   "execution_count": null,
   "id": "0f0cd3e6",
   "metadata": {},
   "outputs": [],
   "source": [
    "pta = model_definition.model_general([epsr], red_var=False, \n",
    "                                    white_vary=True, \n",
    "                                    common_psd='spectrum', common_components=10, \n",
    "                                    select='backend', tm_marg=False)"
   ]
  },
  {
   "cell_type": "markdown",
   "id": "087e8ee0",
   "metadata": {},
   "source": [
    "### Make Gibbs object, and sample"
   ]
  },
  {
   "cell_type": "code",
   "execution_count": null,
   "id": "08a7ec97",
   "metadata": {},
   "outputs": [],
   "source": [
    "gibbs = PulsarBlockGibbs(pta=pta)"
   ]
  },
  {
   "cell_type": "code",
   "execution_count": null,
   "id": "9550114a",
   "metadata": {},
   "outputs": [],
   "source": [
    "x0 = np.concatenate([p.sample().flatten() for p in gibbs.params])"
   ]
  },
  {
   "cell_type": "code",
   "execution_count": null,
   "id": "cef27f53",
   "metadata": {},
   "outputs": [],
   "source": [
    "gibbs.sample(x0, outdir='./gibbs_nano9_1713_clean/conditional2/', \n",
    "             niter=10000, resume=False)"
   ]
  }
 ],
 "metadata": {
  "kernelspec": {
   "display_name": "Python [conda env:enterprise] *",
   "language": "python",
   "name": "conda-env-enterprise-py"
  },
  "language_info": {
   "codemirror_mode": {
    "name": "ipython",
    "version": 3
   },
   "file_extension": ".py",
   "mimetype": "text/x-python",
   "name": "python",
   "nbconvert_exporter": "python",
   "pygments_lexer": "ipython3",
   "version": "3.9.7"
  }
 },
 "nbformat": 4,
 "nbformat_minor": 5
}
