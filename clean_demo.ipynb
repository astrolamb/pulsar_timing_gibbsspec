{
 "cells": [
  {
   "cell_type": "code",
   "execution_count": null,
   "id": "fa4f51db",
   "metadata": {},
   "outputs": [],
   "source": [
    "from __future__ import division\n",
    "\n",
    "%matplotlib inline\n",
    "%config InlineBackend.figure_format = 'retina'\n",
    "\n",
    "import matplotlib\n",
    "from matplotlib import pyplot as plt\n",
    "from matplotlib.ticker import NullFormatter\n",
    "#matplotlib.rcParams['savefig.dpi'] = 1.5 * matplotlib.rcParams['savefig.dpi']\n",
    "\n",
    "import os, glob\n",
    "import corner\n",
    "import numpy as np\n",
    "\n",
    "import enterprise\n",
    "from enterprise.pulsar import Pulsar\n",
    "\n",
    "from PTMCMCSampler.PTMCMCSampler import PTSampler as ptmcmc"
   ]
  },
  {
   "cell_type": "code",
   "execution_count": null,
   "id": "04a29015",
   "metadata": {},
   "outputs": [],
   "source": [
    "from pulsar_gibbs import PTABlockGibbs\n",
    "import model_definition"
   ]
  },
  {
   "cell_type": "code",
   "execution_count": null,
   "id": "48ff3cd2",
   "metadata": {},
   "outputs": [],
   "source": [
    "epsr = Pulsar('/Users/taylosr8/Research/repos/enterprise/tests/data/J1713+0747_NANOGrav_9yv1.t2.gls.par',\n",
    "              '/Users/taylosr8/Research/repos/enterprise/tests/data/J1713+0747_NANOGrav_9yv1.tim')"
   ]
  },
  {
   "cell_type": "code",
   "execution_count": null,
   "id": "0f0cd3e6",
   "metadata": {},
   "outputs": [],
   "source": [
    "pta = model_definition.model_general([epsr], red_var=False, \n",
    "                                    white_vary=True, \n",
    "                                    common_psd='spectrum', common_components=10, \n",
    "                                    select='backend', tm_marg=False)"
   ]
  },
  {
   "cell_type": "code",
   "execution_count": null,
   "id": "08a7ec97",
   "metadata": {},
   "outputs": [],
   "source": [
    "gibbs = PTABlockGibbs(pta=pta, hypersample='conditional', ecorrsample='mh', psr=epsr)"
   ]
  },
  {
   "cell_type": "code",
   "execution_count": null,
   "id": "9550114a",
   "metadata": {},
   "outputs": [],
   "source": [
    "x0 = np.concatenate([p.sample().flatten() for p in gibbs.params])"
   ]
  },
  {
   "cell_type": "code",
   "execution_count": null,
   "id": "cef27f53",
   "metadata": {},
   "outputs": [],
   "source": [
    "gibbs.sample(x0, outdir='./gibbs_nano9_1713_clean/conditional/', \n",
    "             niter=10000, resume=False)"
   ]
  }
 ],
 "metadata": {
  "kernelspec": {
   "display_name": "Python [conda env:enterprise] *",
   "language": "python",
   "name": "conda-env-enterprise-py"
  },
  "language_info": {
   "codemirror_mode": {
    "name": "ipython",
    "version": 3
   },
   "file_extension": ".py",
   "mimetype": "text/x-python",
   "name": "python",
   "nbconvert_exporter": "python",
   "pygments_lexer": "ipython3",
   "version": "3.9.7"
  }
 },
 "nbformat": 4,
 "nbformat_minor": 5
}
