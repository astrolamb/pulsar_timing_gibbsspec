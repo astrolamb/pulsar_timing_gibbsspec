{
 "cells": [
  {
   "cell_type": "code",
   "execution_count": 17,
   "id": "fa4f51db",
   "metadata": {},
   "outputs": [
    {
     "name": "stdout",
     "output_type": "stream",
     "text": [
      "The autoreload extension is already loaded. To reload it, use:\n",
      "  %reload_ext autoreload\n"
     ]
    }
   ],
   "source": [
    "from __future__ import division\n",
    "\n",
    "%matplotlib inline\n",
    "%config InlineBackend.figure_format = 'retina'\n",
    "\n",
    "%load_ext autoreload\n",
    "%autoreload 2\n",
    "\n",
    "import matplotlib\n",
    "from matplotlib import pyplot as plt\n",
    "from matplotlib.ticker import NullFormatter\n",
    "#matplotlib.rcParams['savefig.dpi'] = 1.5 * matplotlib.rcParams['savefig.dpi']\n",
    "\n",
    "import os, glob\n",
    "import corner\n",
    "import acor\n",
    "import numpy as np\n",
    "\n",
    "from PTMCMCSampler.PTMCMCSampler import PTSampler as ptmcmc"
   ]
  },
  {
   "cell_type": "code",
   "execution_count": 18,
   "id": "04a29015",
   "metadata": {},
   "outputs": [],
   "source": [
    "from pulsar_gibbs import PTABlockGibbs\n",
    "import model_definition"
   ]
  },
  {
   "cell_type": "code",
   "execution_count": 19,
   "id": "5fd7c407",
   "metadata": {},
   "outputs": [],
   "source": [
    "import enterprise\n",
    "from enterprise.pulsar import Pulsar\n",
    "from enterprise.signals import parameter\n",
    "from enterprise.signals import signal_base\n",
    "import enterprise.signals.signal_base as base\n",
    "from enterprise.signals import white_signals\n",
    "from enterprise.signals import gp_signals\n",
    "from enterprise.signals import utils\n",
    "\n",
    "import enterprise_extensions as ee\n",
    "from enterprise_extensions import models, model_utils, blocks"
   ]
  },
  {
   "cell_type": "code",
   "execution_count": 4,
   "id": "48ff3cd2",
   "metadata": {},
   "outputs": [
    {
     "name": "stdout",
     "output_type": "stream",
     "text": [
      "[tempo2Util.C:396] Warning: [TIM1] Please place MODE flags in the parameter file \n"
     ]
    }
   ],
   "source": [
    "epsr = Pulsar('J1713+0747.par',\n",
    "              'J1713+0747.tim')"
   ]
  },
  {
   "cell_type": "code",
   "execution_count": 5,
   "id": "19e32914",
   "metadata": {},
   "outputs": [
    {
     "data": {
      "image/png": "[encoded data removed]",
      "text/plain": [
       "<Figure size 432x288 with 1 Axes>"
      ]
     },
     "metadata": {
      "image/png": {
       "height": 271,
       "width": 380
      },
      "needs_background": "light"
     },
     "output_type": "display_data"
    }
   ],
   "source": [
    "plt.errorbar(epsr.toas, epsr.residuals, epsr.toaerrs, fmt='.');"
   ]
  },
  {
   "cell_type": "code",
   "execution_count": 21,
   "id": "0f0cd3e6",
   "metadata": {},
   "outputs": [],
   "source": [
    "##### parameters and priors #####\n",
    "\n",
    "# Uniform prior on EFAC\n",
    "efac = parameter.Constant(1.0)\n",
    "ef = white_signals.MeasurementNoise(efac=efac)\n",
    "\n",
    "# red noise \n",
    "rn = blocks.common_red_noise_block(psd='spectrum', components=30, name='gw')\n",
    "\n",
    "# timing model\n",
    "tm = gp_signals.TimingModel(use_svd=True)\n",
    "\n",
    "# full model is sum of components\n",
    "model = ef + rn + tm\n",
    "\n",
    "# initialize PTA\n",
    "pta = signal_base.PTA([model(epsr)])"
   ]
  },
  {
   "cell_type": "code",
   "execution_count": 22,
   "id": "08a7ec97",
   "metadata": {},
   "outputs": [
    {
     "name": "stdout",
     "output_type": "stream",
     "text": [
      "ERROR: Gibbs outlier analysis must use basis_ecorr, not kernel ecorr\n"
     ]
    }
   ],
   "source": [
    "gibbs = PTABlockGibbs(pta=pta, hypersample='conditional', ecorrsample='mh', psr=epsr)"
   ]
  },
  {
   "cell_type": "code",
   "execution_count": 23,
   "id": "9550114a",
   "metadata": {},
   "outputs": [],
   "source": [
    "x0 = np.concatenate([p.sample().flatten() for p in gibbs.params])"
   ]
  },
  {
   "cell_type": "code",
   "execution_count": 24,
   "id": "bf4e5bbc",
   "metadata": {},
   "outputs": [
    {
     "name": "stdout",
     "output_type": "stream",
     "text": [
      "ok\n"
     ]
    }
   ],
   "source": [
    "if gibbs.get_ecorr_indices().size != 1:\n",
    "    print('ok')"
   ]
  },
  {
   "cell_type": "code",
   "execution_count": 25,
   "id": "cef27f53",
   "metadata": {},
   "outputs": [
    {
     "name": "stdout",
     "output_type": "stream",
     "text": [
      "Creating chain directory: ./gibbs_1713sim/\n",
      "Finished 99 percent in 81.603 seconds.."
     ]
    }
   ],
   "source": [
    "gibbs.sample(x0, outdir='./gibbs_1713sim/', \n",
    "             niter=10000, resume=False)"
   ]
  },
  {
   "cell_type": "code",
   "execution_count": 26,
   "id": "2c28e3e2",
   "metadata": {},
   "outputs": [],
   "source": [
    "chain = np.loadtxt('./gibbs_1713sim/chain.txt')"
   ]
  },
  {
   "cell_type": "code",
   "execution_count": 28,
   "id": "38ddf8ad",
   "metadata": {},
   "outputs": [
    {
     "name": "stdout",
     "output_type": "stream",
     "text": [
      "4.252991588016285\n",
      "1.0514801851718536\n",
      "1.6387920798133548\n",
      "13.96029424235001\n",
      "10.369220774891089\n",
      "2.7454245339971597\n",
      "8.537478421292391\n",
      "4.1842782939894985\n",
      "5.373657173148977\n",
      "4.660288981550915\n",
      "5.927106055252965\n",
      "4.973415135101724\n",
      "4.590370187633255\n",
      "16.40109307480614\n",
      "8.677314091263403\n",
      "5.709280907022412\n",
      "6.891352551120242\n",
      "7.000086691412192\n",
      "3.86741586545879\n",
      "2.969258353856533\n",
      "3.0887182506881246\n",
      "2.893333463144192\n",
      "4.018074697684064\n",
      "3.7939490692415783\n",
      "5.439143269761273\n",
      "2.4728041385275756\n",
      "5.242051364130827\n",
      "3.5977992688891707\n",
      "7.221742653117613\n",
      "2.975762053869277\n"
     ]
    }
   ],
   "source": [
    "for ii in range(30):\n",
    "    print(acor.acor(chain[100:,ii])[0])"
   ]
  },
  {
   "cell_type": "code",
   "execution_count": null,
   "id": "32de121e",
   "metadata": {},
   "outputs": [],
   "source": []
  }
 ],
 "metadata": {
  "kernelspec": {
   "display_name": "Python [conda env:enterprise] *",
   "language": "python",
   "name": "conda-env-enterprise-py"
  },
  "language_info": {
   "codemirror_mode": {
    "name": "ipython",
    "version": 3
   },
   "file_extension": ".py",
   "mimetype": "text/x-python",
   "name": "python",
   "nbconvert_exporter": "python",
   "pygments_lexer": "ipython3",
   "version": "3.9.7"
  }
 },
 "nbformat": 4,
 "nbformat_minor": 5
}
